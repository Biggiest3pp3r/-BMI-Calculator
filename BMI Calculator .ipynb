{
 "cells": [
  {
   "cell_type": "code",
   "execution_count": 3,
   "id": "f983ff7d-5b5e-4f26-aa5a-2f1ebd463f57",
   "metadata": {},
   "outputs": [
    {
     "name": "stdin",
     "output_type": "stream",
     "text": [
      "Enter your name:  shawn\n",
      "Enter your weight in pounds:  264\n",
      "Enter your height in inches:  76\n"
     ]
    },
    {
     "name": "stdout",
     "output_type": "stream",
     "text": [
      "Your BMI is 32.13\n",
      "shawn, you are obese.\n"
     ]
    }
   ],
   "source": [
    "name = input(\"Enter your name: \")\n",
    "\n",
    "weight = int(input(\"Enter your weight in pounds: \"))\n",
    "\n",
    "height = int(input(\"Enter your height in inches: \"))\n",
    "\n",
    "BMI = (weight * 703) / (height * height)\n",
    "\n",
    "print(f\"Your BMI is {BMI:.2f}\")\n",
    "\n",
    "if BMI > 0:\n",
    "    if BMI < 18.5:\n",
    "        print(f\"{name}, you are underweight.\")\n",
    "    elif BMI <= 24.9:\n",
    "        print(f\"{name}, you have a normal weight.\")\n",
    "    elif BMI <= 29.9:\n",
    "        print(f\"{name}, you are overweight. Regular exercise could help improve your health.\")\n",
    "    elif BMI <= 34.9:\n",
    "        print(f\"{name}, you are obese.\")\n",
    "    elif BMI <= 39.9:\n",
    "        print(f\"{name}, you are severely obese.\")\n",
    "    else:\n",
    "        print(f\"{name}, you are morbidly obese.\")\n",
    "else:\n",
    "    print(\"Please enter valid input.\") "
   ]
  },
  {
   "cell_type": "code",
   "execution_count": null,
   "id": "0e625c6c-1bc2-41f1-9a20-bc8e49253644",
   "metadata": {},
   "outputs": [],
   "source": []
  },
  {
   "cell_type": "code",
   "execution_count": null,
   "id": "f7b5f690-fc6b-4299-ad3b-a5c41cc6b8e9",
   "metadata": {},
   "outputs": [],
   "source": []
  },
  {
   "cell_type": "code",
   "execution_count": null,
   "id": "3bf68235-4ad5-4cca-99bc-07abef70364f",
   "metadata": {},
   "outputs": [],
   "source": []
  },
  {
   "cell_type": "code",
   "execution_count": null,
   "id": "9c30c851-221a-4fcd-8d84-9721401dfbaf",
   "metadata": {},
   "outputs": [],
   "source": [
    "#BMI = (Weight in pounds X 703) / (height in inches X height in inches) "
   ]
  },
  {
   "cell_type": "code",
   "execution_count": null,
   "id": "a8d26d3d-800f-476b-87c9-cbd1054064ad",
   "metadata": {},
   "outputs": [],
   "source": [
    "#print(weight)"
   ]
  },
  {
   "cell_type": "code",
   "execution_count": null,
   "id": "242514a7-a747-4ea0-a50b-e0b54d6bebfd",
   "metadata": {},
   "outputs": [],
   "source": [
    "#Under 18.5\tUnderweight\tMinimal\n",
    "#18.5 - 24.9\tNormal Weight\tMinimal\n",
    "#25 - 29.9\tOverweight\tIncreased\n",
    "#30 - 34.9\tObese\tHigh\n",
    "#35 - 39.9\tSeverely Obese\tVery High\n",
    "#40 and over\tMorbidly Obese\tExtremely High"
   ]
  },
  {
   "cell_type": "code",
   "execution_count": null,
   "id": "fc314c51-f60d-4ac8-8091-81908769cffd",
   "metadata": {},
   "outputs": [],
   "source": []
  },
  {
   "cell_type": "code",
   "execution_count": null,
   "id": "5238191c-1082-4002-ad9e-0e330fb17b34",
   "metadata": {},
   "outputs": [],
   "source": []
  },
  {
   "cell_type": "code",
   "execution_count": null,
   "id": "dcaf0388-3b74-49cc-918f-dccca75829d8",
   "metadata": {},
   "outputs": [],
   "source": []
  },
  {
   "cell_type": "code",
   "execution_count": null,
   "id": "b8f5a34c-a036-49d1-9520-a483055d57af",
   "metadata": {},
   "outputs": [],
   "source": []
  },
  {
   "cell_type": "code",
   "execution_count": null,
   "id": "765b57cf-3782-47fb-922a-e290f1cbd016",
   "metadata": {},
   "outputs": [],
   "source": []
  },
  {
   "cell_type": "code",
   "execution_count": null,
   "id": "6a4cdde9-484a-47bd-ae72-360b1fe2762a",
   "metadata": {},
   "outputs": [],
   "source": []
  }
 ],
 "metadata": {
  "kernelspec": {
   "display_name": "Python 3 (ipykernel)",
   "language": "python",
   "name": "python3"
  },
  "language_info": {
   "codemirror_mode": {
    "name": "ipython",
    "version": 3
   },
   "file_extension": ".py",
   "mimetype": "text/x-python",
   "name": "python",
   "nbconvert_exporter": "python",
   "pygments_lexer": "ipython3",
   "version": "3.12.4"
  }
 },
 "nbformat": 4,
 "nbformat_minor": 5
}
